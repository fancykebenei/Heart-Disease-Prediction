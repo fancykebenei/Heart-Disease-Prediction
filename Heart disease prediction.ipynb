{
 "cells": [
  {
   "cell_type": "code",
   "execution_count": 124,
   "metadata": {},
   "outputs": [],
   "source": [
    "import pandas as pd\n",
    "import numpy as np\n",
    "from sklearn import metrics\n",
    "from sklearn.model_selection import train_test_split\n",
    "from sklearn.metrics import classification_report, accuracy_score\n",
    "import tensorflow as tf\n",
    "from tensorflow import keras\n",
    "from tensorflow.python.keras.optimizers import Adam\n",
    "from tensorflow.keras.models import Sequential\n",
    "from tensorflow.keras.layers import Dense, Activation, Input\n",
    "import seaborn as sns\n",
    "import matplotlib.pyplot as plt\n",
    "%matplotlib inline"
   ]
  },
  {
   "cell_type": "code",
   "execution_count": 120,
   "metadata": {},
   "outputs": [
    {
     "data": {
      "text/html": [
       "<div>\n",
       "<style scoped>\n",
       "    .dataframe tbody tr th:only-of-type {\n",
       "        vertical-align: middle;\n",
       "    }\n",
       "\n",
       "    .dataframe tbody tr th {\n",
       "        vertical-align: top;\n",
       "    }\n",
       "\n",
       "    .dataframe thead th {\n",
       "        text-align: right;\n",
       "    }\n",
       "</style>\n",
       "<table border=\"1\" class=\"dataframe\">\n",
       "  <thead>\n",
       "    <tr style=\"text-align: right;\">\n",
       "      <th></th>\n",
       "      <th>age</th>\n",
       "      <th>sex</th>\n",
       "      <th>cp</th>\n",
       "      <th>trestbps</th>\n",
       "      <th>chol</th>\n",
       "      <th>fbs</th>\n",
       "      <th>restecg</th>\n",
       "      <th>thalach</th>\n",
       "      <th>exang</th>\n",
       "      <th>oldpeak</th>\n",
       "      <th>slope</th>\n",
       "      <th>ca</th>\n",
       "      <th>thal</th>\n",
       "      <th>target</th>\n",
       "    </tr>\n",
       "  </thead>\n",
       "  <tbody>\n",
       "    <tr>\n",
       "      <th>0</th>\n",
       "      <td>63</td>\n",
       "      <td>1</td>\n",
       "      <td>3</td>\n",
       "      <td>145</td>\n",
       "      <td>233</td>\n",
       "      <td>1</td>\n",
       "      <td>0</td>\n",
       "      <td>150</td>\n",
       "      <td>0</td>\n",
       "      <td>2.3</td>\n",
       "      <td>0</td>\n",
       "      <td>0</td>\n",
       "      <td>1</td>\n",
       "      <td>1</td>\n",
       "    </tr>\n",
       "    <tr>\n",
       "      <th>1</th>\n",
       "      <td>37</td>\n",
       "      <td>1</td>\n",
       "      <td>2</td>\n",
       "      <td>130</td>\n",
       "      <td>250</td>\n",
       "      <td>0</td>\n",
       "      <td>1</td>\n",
       "      <td>187</td>\n",
       "      <td>0</td>\n",
       "      <td>3.5</td>\n",
       "      <td>0</td>\n",
       "      <td>0</td>\n",
       "      <td>2</td>\n",
       "      <td>1</td>\n",
       "    </tr>\n",
       "    <tr>\n",
       "      <th>2</th>\n",
       "      <td>41</td>\n",
       "      <td>0</td>\n",
       "      <td>1</td>\n",
       "      <td>130</td>\n",
       "      <td>204</td>\n",
       "      <td>0</td>\n",
       "      <td>0</td>\n",
       "      <td>172</td>\n",
       "      <td>0</td>\n",
       "      <td>1.4</td>\n",
       "      <td>2</td>\n",
       "      <td>0</td>\n",
       "      <td>2</td>\n",
       "      <td>1</td>\n",
       "    </tr>\n",
       "    <tr>\n",
       "      <th>3</th>\n",
       "      <td>56</td>\n",
       "      <td>1</td>\n",
       "      <td>1</td>\n",
       "      <td>120</td>\n",
       "      <td>236</td>\n",
       "      <td>0</td>\n",
       "      <td>1</td>\n",
       "      <td>178</td>\n",
       "      <td>0</td>\n",
       "      <td>0.8</td>\n",
       "      <td>2</td>\n",
       "      <td>0</td>\n",
       "      <td>2</td>\n",
       "      <td>1</td>\n",
       "    </tr>\n",
       "    <tr>\n",
       "      <th>4</th>\n",
       "      <td>57</td>\n",
       "      <td>0</td>\n",
       "      <td>0</td>\n",
       "      <td>120</td>\n",
       "      <td>354</td>\n",
       "      <td>0</td>\n",
       "      <td>1</td>\n",
       "      <td>163</td>\n",
       "      <td>1</td>\n",
       "      <td>0.6</td>\n",
       "      <td>2</td>\n",
       "      <td>0</td>\n",
       "      <td>2</td>\n",
       "      <td>1</td>\n",
       "    </tr>\n",
       "    <tr>\n",
       "      <th>...</th>\n",
       "      <td>...</td>\n",
       "      <td>...</td>\n",
       "      <td>...</td>\n",
       "      <td>...</td>\n",
       "      <td>...</td>\n",
       "      <td>...</td>\n",
       "      <td>...</td>\n",
       "      <td>...</td>\n",
       "      <td>...</td>\n",
       "      <td>...</td>\n",
       "      <td>...</td>\n",
       "      <td>...</td>\n",
       "      <td>...</td>\n",
       "      <td>...</td>\n",
       "    </tr>\n",
       "    <tr>\n",
       "      <th>298</th>\n",
       "      <td>57</td>\n",
       "      <td>0</td>\n",
       "      <td>0</td>\n",
       "      <td>140</td>\n",
       "      <td>241</td>\n",
       "      <td>0</td>\n",
       "      <td>1</td>\n",
       "      <td>123</td>\n",
       "      <td>1</td>\n",
       "      <td>0.2</td>\n",
       "      <td>1</td>\n",
       "      <td>0</td>\n",
       "      <td>3</td>\n",
       "      <td>0</td>\n",
       "    </tr>\n",
       "    <tr>\n",
       "      <th>299</th>\n",
       "      <td>45</td>\n",
       "      <td>1</td>\n",
       "      <td>3</td>\n",
       "      <td>110</td>\n",
       "      <td>264</td>\n",
       "      <td>0</td>\n",
       "      <td>1</td>\n",
       "      <td>132</td>\n",
       "      <td>0</td>\n",
       "      <td>1.2</td>\n",
       "      <td>1</td>\n",
       "      <td>0</td>\n",
       "      <td>3</td>\n",
       "      <td>0</td>\n",
       "    </tr>\n",
       "    <tr>\n",
       "      <th>300</th>\n",
       "      <td>68</td>\n",
       "      <td>1</td>\n",
       "      <td>0</td>\n",
       "      <td>144</td>\n",
       "      <td>193</td>\n",
       "      <td>1</td>\n",
       "      <td>1</td>\n",
       "      <td>141</td>\n",
       "      <td>0</td>\n",
       "      <td>3.4</td>\n",
       "      <td>1</td>\n",
       "      <td>2</td>\n",
       "      <td>3</td>\n",
       "      <td>0</td>\n",
       "    </tr>\n",
       "    <tr>\n",
       "      <th>301</th>\n",
       "      <td>57</td>\n",
       "      <td>1</td>\n",
       "      <td>0</td>\n",
       "      <td>130</td>\n",
       "      <td>131</td>\n",
       "      <td>0</td>\n",
       "      <td>1</td>\n",
       "      <td>115</td>\n",
       "      <td>1</td>\n",
       "      <td>1.2</td>\n",
       "      <td>1</td>\n",
       "      <td>1</td>\n",
       "      <td>3</td>\n",
       "      <td>0</td>\n",
       "    </tr>\n",
       "    <tr>\n",
       "      <th>302</th>\n",
       "      <td>57</td>\n",
       "      <td>0</td>\n",
       "      <td>1</td>\n",
       "      <td>130</td>\n",
       "      <td>236</td>\n",
       "      <td>0</td>\n",
       "      <td>0</td>\n",
       "      <td>174</td>\n",
       "      <td>0</td>\n",
       "      <td>0.0</td>\n",
       "      <td>1</td>\n",
       "      <td>1</td>\n",
       "      <td>2</td>\n",
       "      <td>0</td>\n",
       "    </tr>\n",
       "  </tbody>\n",
       "</table>\n",
       "<p>303 rows × 14 columns</p>\n",
       "</div>"
      ],
      "text/plain": [
       "     age  sex  cp  trestbps  chol  fbs  restecg  thalach  exang  oldpeak  \\\n",
       "0     63    1   3       145   233    1        0      150      0      2.3   \n",
       "1     37    1   2       130   250    0        1      187      0      3.5   \n",
       "2     41    0   1       130   204    0        0      172      0      1.4   \n",
       "3     56    1   1       120   236    0        1      178      0      0.8   \n",
       "4     57    0   0       120   354    0        1      163      1      0.6   \n",
       "..   ...  ...  ..       ...   ...  ...      ...      ...    ...      ...   \n",
       "298   57    0   0       140   241    0        1      123      1      0.2   \n",
       "299   45    1   3       110   264    0        1      132      0      1.2   \n",
       "300   68    1   0       144   193    1        1      141      0      3.4   \n",
       "301   57    1   0       130   131    0        1      115      1      1.2   \n",
       "302   57    0   1       130   236    0        0      174      0      0.0   \n",
       "\n",
       "     slope  ca  thal  target  \n",
       "0        0   0     1       1  \n",
       "1        0   0     2       1  \n",
       "2        2   0     2       1  \n",
       "3        2   0     2       1  \n",
       "4        2   0     2       1  \n",
       "..     ...  ..   ...     ...  \n",
       "298      1   0     3       0  \n",
       "299      1   0     3       0  \n",
       "300      1   2     3       0  \n",
       "301      1   1     3       0  \n",
       "302      1   1     2       0  \n",
       "\n",
       "[303 rows x 14 columns]"
      ]
     },
     "execution_count": 120,
     "metadata": {},
     "output_type": "execute_result"
    }
   ],
   "source": [
    "df = pd.read_csv(\"heart.csv\")\n",
    "df"
   ]
  },
  {
   "cell_type": "code",
   "execution_count": 24,
   "metadata": {},
   "outputs": [
    {
     "name": "stdout",
     "output_type": "stream",
     "text": [
      "<class 'pandas.core.frame.DataFrame'>\n",
      "RangeIndex: 303 entries, 0 to 302\n",
      "Data columns (total 14 columns):\n",
      " #   Column    Non-Null Count  Dtype  \n",
      "---  ------    --------------  -----  \n",
      " 0   age       303 non-null    int64  \n",
      " 1   sex       303 non-null    int64  \n",
      " 2   cp        303 non-null    int64  \n",
      " 3   trestbps  303 non-null    int64  \n",
      " 4   chol      303 non-null    int64  \n",
      " 5   fbs       303 non-null    int64  \n",
      " 6   restecg   303 non-null    int64  \n",
      " 7   thalach   303 non-null    int64  \n",
      " 8   exang     303 non-null    int64  \n",
      " 9   oldpeak   303 non-null    float64\n",
      " 10  slope     303 non-null    int64  \n",
      " 11  ca        303 non-null    int64  \n",
      " 12  thal      303 non-null    int64  \n",
      " 13  target    303 non-null    int64  \n",
      "dtypes: float64(1), int64(13)\n",
      "memory usage: 33.3 KB\n"
     ]
    }
   ],
   "source": [
    "df.info()"
   ]
  },
  {
   "cell_type": "code",
   "execution_count": 111,
   "metadata": {},
   "outputs": [
    {
     "data": {
      "text/plain": [
       "Index(['age', 'sex', 'cp', 'trestbps', 'chol', 'fbs', 'restecg', 'thalach',\n",
       "       'exang', 'oldpeak', 'slope', 'ca', 'thal', 'target'],\n",
       "      dtype='object')"
      ]
     },
     "execution_count": 111,
     "metadata": {},
     "output_type": "execute_result"
    }
   ],
   "source": [
    "df.columns"
   ]
  },
  {
   "cell_type": "code",
   "execution_count": 112,
   "metadata": {},
   "outputs": [
    {
     "data": {
      "image/png": "[encoded data removed]",
      "text/plain": [
       "<Figure size 432x288 with 2 Axes>"
      ]
     },
     "metadata": {
      "needs_background": "light"
     },
     "output_type": "display_data"
    }
   ],
   "source": [
    "heat=np.random.rand(15, 15)\n",
    "ax = sns.heatmap(heat, linewidth='0.5')\n",
    "plt.show()"
   ]
  },
  {
   "cell_type": "code",
   "execution_count": 113,
   "metadata": {},
   "outputs": [
    {
     "data": {
      "text/plain": [
       "Text(0.5, 0, '')"
      ]
     },
     "execution_count": 113,
     "metadata": {},
     "output_type": "execute_result"
    },
    {
     "data": {
      "image/png": "[encoded data removed]",
      "text/plain": [
       "<Figure size 432x288 with 1 Axes>"
      ]
     },
     "metadata": {
      "needs_background": "light"
     },
     "output_type": "display_data"
    }
   ],
   "source": [
    "f = sns.countplot(x='target', data=df, hue='sex')\n",
    "plt.legend(['Female', 'Male'])\n",
    "f.set_title(\"Heart disease presence by gender\")\n",
    "f.set_xticklabels(['No Heart disease', 'Heart Disease'])\n",
    "plt.xlabel(\"\")"
   ]
  },
  {
   "cell_type": "code",
   "execution_count": 114,
   "metadata": {},
   "outputs": [
    {
     "data": {
      "text/plain": [
       "Text(0, 0.5, 'Maximum Heart Rate')"
      ]
     },
     "execution_count": 114,
     "metadata": {},
     "output_type": "execute_result"
    },
    {
     "data": {
      "image/png": "[encoded data removed]",
      "text/plain": [
       "<Figure size 432x288 with 1 Axes>"
      ]
     },
     "metadata": {
      "needs_background": "light"
     },
     "output_type": "display_data"
    }
   ],
   "source": [
    "plt.scatter(x=df.age[df.target==1], y=df.thalach[(df.target==1)], c=\"red\", s=60)\n",
    "plt.scatter(x=df.age[df.target==0], y=df.thalach[(df.target==0)], s=60)\n",
    "plt.legend([\"Disease\", \"No Disease\"])\n",
    "plt.xlabel(\"Age\")\n",
    "plt.ylabel(\"Maximum Heart Rate\")"
   ]
  },
  {
   "cell_type": "code",
   "execution_count": 117,
   "metadata": {},
   "outputs": [],
   "source": [
    "X =df.drop(['target'], axis=1)\n",
    "Y = df['target']. values\n",
    "X_train, X_test, Y_train, Y_test = train_test_split(X, Y, test_size=0.20, random_state=42)"
   ]
  },
  {
   "cell_type": "code",
   "execution_count": 118,
   "metadata": {},
   "outputs": [],
   "source": [
    "# x = df[[ 'age', 'sex', 'cp', 'trestbps', 'chol', 'fbs', 'restecg', 'thalach',\n",
    "#        'exang', 'oldpeak', 'slope', 'ca', 'thal']].values\n",
    "# y = df[[ 'target' ]]\n",
    "# y.shape[1]"
   ]
  },
  {
   "cell_type": "code",
   "execution_count": 119,
   "metadata": {},
   "outputs": [
    {
     "name": "stdout",
     "output_type": "stream",
     "text": [
      "Epoch 1/100\n",
      "16/16 - 0s - loss: 26.7798 - accuracy: 0.5496 - val_loss: 11.7765 - val_accuracy: 0.5246\n",
      "Epoch 2/100\n",
      "16/16 - 0s - loss: 6.6517 - accuracy: 0.4215 - val_loss: 5.8434 - val_accuracy: 0.3279\n",
      "Epoch 3/100\n",
      "16/16 - 0s - loss: 3.9733 - accuracy: 0.3843 - val_loss: 4.1643 - val_accuracy: 0.2623\n",
      "Epoch 4/100\n",
      "16/16 - 0s - loss: 2.7323 - accuracy: 0.3802 - val_loss: 2.9011 - val_accuracy: 0.3279\n",
      "Epoch 5/100\n",
      "16/16 - 0s - loss: 1.9410 - accuracy: 0.4091 - val_loss: 1.9990 - val_accuracy: 0.2787\n",
      "Epoch 6/100\n",
      "16/16 - 0s - loss: 1.4169 - accuracy: 0.4504 - val_loss: 1.4405 - val_accuracy: 0.4098\n",
      "Epoch 7/100\n",
      "16/16 - 0s - loss: 1.1004 - accuracy: 0.5124 - val_loss: 1.1808 - val_accuracy: 0.4590\n",
      "Epoch 8/100\n",
      "16/16 - 0s - loss: 1.0339 - accuracy: 0.5496 - val_loss: 1.0576 - val_accuracy: 0.5246\n",
      "Epoch 9/100\n",
      "16/16 - 0s - loss: 0.9611 - accuracy: 0.5496 - val_loss: 0.9428 - val_accuracy: 0.5902\n",
      "Epoch 10/100\n",
      "16/16 - 0s - loss: 0.9108 - accuracy: 0.6033 - val_loss: 0.9184 - val_accuracy: 0.5738\n",
      "Epoch 11/100\n",
      "16/16 - 0s - loss: 0.7859 - accuracy: 0.6033 - val_loss: 0.8649 - val_accuracy: 0.6557\n",
      "Epoch 12/100\n",
      "16/16 - 0s - loss: 0.8309 - accuracy: 0.5950 - val_loss: 0.8396 - val_accuracy: 0.6721\n",
      "Epoch 13/100\n",
      "16/16 - 0s - loss: 0.7697 - accuracy: 0.6281 - val_loss: 0.7717 - val_accuracy: 0.7377\n",
      "Epoch 14/100\n",
      "16/16 - 0s - loss: 0.7379 - accuracy: 0.6322 - val_loss: 0.7457 - val_accuracy: 0.6721\n",
      "Epoch 15/100\n",
      "16/16 - 0s - loss: 0.6849 - accuracy: 0.6653 - val_loss: 0.7962 - val_accuracy: 0.6393\n",
      "Epoch 16/100\n",
      "16/16 - 0s - loss: 0.6828 - accuracy: 0.6653 - val_loss: 0.7634 - val_accuracy: 0.6393\n",
      "Epoch 17/100\n",
      "16/16 - 0s - loss: 0.6995 - accuracy: 0.6488 - val_loss: 0.8358 - val_accuracy: 0.6393\n",
      "Epoch 18/100\n",
      "16/16 - 0s - loss: 0.9097 - accuracy: 0.5909 - val_loss: 0.6801 - val_accuracy: 0.7049\n",
      "Epoch 19/100\n",
      "16/16 - 0s - loss: 0.7524 - accuracy: 0.6364 - val_loss: 0.5950 - val_accuracy: 0.7869\n",
      "Epoch 20/100\n",
      "16/16 - 0s - loss: 0.7187 - accuracy: 0.6364 - val_loss: 0.6948 - val_accuracy: 0.6557\n",
      "Epoch 21/100\n",
      "16/16 - 0s - loss: 0.6342 - accuracy: 0.6818 - val_loss: 0.6241 - val_accuracy: 0.7541\n",
      "Epoch 22/100\n",
      "16/16 - 0s - loss: 0.6003 - accuracy: 0.6694 - val_loss: 0.5643 - val_accuracy: 0.7541\n",
      "Epoch 23/100\n",
      "16/16 - 0s - loss: 0.5726 - accuracy: 0.7025 - val_loss: 0.5472 - val_accuracy: 0.7869\n",
      "Epoch 24/100\n",
      "16/16 - 0s - loss: 0.5982 - accuracy: 0.6818 - val_loss: 0.5793 - val_accuracy: 0.7377\n",
      "Epoch 25/100\n",
      "16/16 - 0s - loss: 0.5636 - accuracy: 0.6818 - val_loss: 0.5405 - val_accuracy: 0.7541\n",
      "Epoch 26/100\n",
      "16/16 - 0s - loss: 0.5691 - accuracy: 0.6860 - val_loss: 0.5111 - val_accuracy: 0.8197\n",
      "Epoch 27/100\n",
      "16/16 - 0s - loss: 0.5891 - accuracy: 0.6818 - val_loss: 0.5072 - val_accuracy: 0.8033\n",
      "Epoch 28/100\n",
      "16/16 - 0s - loss: 0.5680 - accuracy: 0.6694 - val_loss: 0.4986 - val_accuracy: 0.8197\n",
      "Epoch 29/100\n",
      "16/16 - 0s - loss: 0.6571 - accuracy: 0.6446 - val_loss: 0.5909 - val_accuracy: 0.7213\n",
      "Epoch 30/100\n",
      "16/16 - 0s - loss: 0.5837 - accuracy: 0.7025 - val_loss: 0.4939 - val_accuracy: 0.7869\n",
      "Epoch 31/100\n",
      "16/16 - 0s - loss: 0.5225 - accuracy: 0.7066 - val_loss: 0.4661 - val_accuracy: 0.8361\n",
      "Epoch 32/100\n",
      "16/16 - 0s - loss: 0.5125 - accuracy: 0.7314 - val_loss: 0.5021 - val_accuracy: 0.7541\n",
      "Epoch 33/100\n",
      "16/16 - 0s - loss: 0.5003 - accuracy: 0.7190 - val_loss: 0.6203 - val_accuracy: 0.6230\n",
      "Epoch 34/100\n",
      "16/16 - 0s - loss: 0.5177 - accuracy: 0.7231 - val_loss: 0.4556 - val_accuracy: 0.8197\n",
      "Epoch 35/100\n",
      "16/16 - 0s - loss: 0.4903 - accuracy: 0.7645 - val_loss: 0.4768 - val_accuracy: 0.7869\n",
      "Epoch 36/100\n",
      "16/16 - 0s - loss: 0.5442 - accuracy: 0.7231 - val_loss: 0.4853 - val_accuracy: 0.7869\n",
      "Epoch 37/100\n",
      "16/16 - 0s - loss: 0.5579 - accuracy: 0.7231 - val_loss: 0.4464 - val_accuracy: 0.8361\n",
      "Epoch 38/100\n",
      "16/16 - 0s - loss: 0.5262 - accuracy: 0.7438 - val_loss: 0.6897 - val_accuracy: 0.6066\n",
      "Epoch 39/100\n",
      "16/16 - 0s - loss: 0.6240 - accuracy: 0.6818 - val_loss: 0.4196 - val_accuracy: 0.8525\n",
      "Epoch 40/100\n",
      "16/16 - 0s - loss: 0.5108 - accuracy: 0.7521 - val_loss: 0.7751 - val_accuracy: 0.5902\n",
      "Epoch 41/100\n",
      "16/16 - 0s - loss: 0.5672 - accuracy: 0.7397 - val_loss: 0.4143 - val_accuracy: 0.8033\n",
      "Epoch 42/100\n",
      "16/16 - 0s - loss: 0.5088 - accuracy: 0.7562 - val_loss: 0.5862 - val_accuracy: 0.6393\n",
      "Epoch 43/100\n",
      "16/16 - 0s - loss: 0.5931 - accuracy: 0.6653 - val_loss: 0.5855 - val_accuracy: 0.7213\n",
      "Epoch 44/100\n",
      "16/16 - 0s - loss: 0.6096 - accuracy: 0.6860 - val_loss: 0.4109 - val_accuracy: 0.8689\n",
      "Epoch 45/100\n",
      "16/16 - 0s - loss: 0.4698 - accuracy: 0.7727 - val_loss: 0.5061 - val_accuracy: 0.7869\n",
      "Epoch 46/100\n",
      "16/16 - 0s - loss: 0.5167 - accuracy: 0.7438 - val_loss: 0.4677 - val_accuracy: 0.7705\n",
      "Epoch 47/100\n",
      "16/16 - 0s - loss: 0.4808 - accuracy: 0.7603 - val_loss: 0.4182 - val_accuracy: 0.8033\n",
      "Epoch 48/100\n",
      "16/16 - 0s - loss: 0.5015 - accuracy: 0.7521 - val_loss: 0.8304 - val_accuracy: 0.5738\n",
      "Epoch 49/100\n",
      "16/16 - 0s - loss: 0.6266 - accuracy: 0.6694 - val_loss: 0.4645 - val_accuracy: 0.8033\n",
      "Epoch 50/100\n",
      "16/16 - 0s - loss: 0.7453 - accuracy: 0.6818 - val_loss: 0.5818 - val_accuracy: 0.7213\n",
      "Epoch 51/100\n",
      "16/16 - 0s - loss: 0.4935 - accuracy: 0.7397 - val_loss: 0.3890 - val_accuracy: 0.8689\n",
      "Epoch 52/100\n",
      "16/16 - 0s - loss: 0.4440 - accuracy: 0.7893 - val_loss: 0.4129 - val_accuracy: 0.8033\n",
      "Epoch 53/100\n",
      "16/16 - 0s - loss: 0.4885 - accuracy: 0.7727 - val_loss: 0.4467 - val_accuracy: 0.8033\n",
      "Epoch 54/100\n",
      "16/16 - 0s - loss: 0.4814 - accuracy: 0.7769 - val_loss: 0.4006 - val_accuracy: 0.8852\n",
      "Epoch 55/100\n",
      "16/16 - 0s - loss: 0.4950 - accuracy: 0.7521 - val_loss: 0.5897 - val_accuracy: 0.6393\n",
      "Epoch 56/100\n",
      "16/16 - 0s - loss: 0.5018 - accuracy: 0.7686 - val_loss: 0.4778 - val_accuracy: 0.7541\n",
      "Epoch 57/100\n",
      "16/16 - 0s - loss: 0.4238 - accuracy: 0.8099 - val_loss: 0.4362 - val_accuracy: 0.8033\n",
      "Epoch 58/100\n",
      "16/16 - 0s - loss: 0.4677 - accuracy: 0.7769 - val_loss: 0.4812 - val_accuracy: 0.8197\n",
      "Epoch 59/100\n",
      "16/16 - 0s - loss: 0.7193 - accuracy: 0.6364 - val_loss: 0.3961 - val_accuracy: 0.8689\n",
      "Epoch 60/100\n",
      "16/16 - 0s - loss: 0.6176 - accuracy: 0.6777 - val_loss: 0.5656 - val_accuracy: 0.6721\n",
      "Epoch 61/100\n",
      "16/16 - 0s - loss: 0.5653 - accuracy: 0.7107 - val_loss: 0.3729 - val_accuracy: 0.8361\n",
      "Epoch 62/100\n",
      "16/16 - 0s - loss: 0.4796 - accuracy: 0.7645 - val_loss: 0.4644 - val_accuracy: 0.8197\n",
      "Epoch 63/100\n",
      "16/16 - 0s - loss: 0.4506 - accuracy: 0.7727 - val_loss: 0.4272 - val_accuracy: 0.8525\n",
      "Epoch 64/100\n",
      "16/16 - 0s - loss: 0.4625 - accuracy: 0.7851 - val_loss: 0.4213 - val_accuracy: 0.8689\n",
      "Epoch 65/100\n",
      "16/16 - 0s - loss: 0.5155 - accuracy: 0.7397 - val_loss: 0.3756 - val_accuracy: 0.8361\n",
      "Epoch 66/100\n",
      "16/16 - 0s - loss: 0.4645 - accuracy: 0.7645 - val_loss: 0.3640 - val_accuracy: 0.8525\n",
      "Epoch 67/100\n",
      "16/16 - 0s - loss: 0.4226 - accuracy: 0.8140 - val_loss: 0.4321 - val_accuracy: 0.8033\n",
      "Epoch 68/100\n",
      "16/16 - 0s - loss: 0.5381 - accuracy: 0.7521 - val_loss: 0.6518 - val_accuracy: 0.6066\n",
      "Epoch 69/100\n",
      "16/16 - 0s - loss: 0.5026 - accuracy: 0.7521 - val_loss: 0.4819 - val_accuracy: 0.7377\n",
      "Epoch 70/100\n",
      "16/16 - 0s - loss: 0.4203 - accuracy: 0.8099 - val_loss: 0.3810 - val_accuracy: 0.8689\n",
      "Epoch 71/100\n",
      "16/16 - 0s - loss: 0.5045 - accuracy: 0.7562 - val_loss: 0.5587 - val_accuracy: 0.6721\n",
      "Epoch 72/100\n",
      "16/16 - 0s - loss: 0.5550 - accuracy: 0.7190 - val_loss: 0.3867 - val_accuracy: 0.8361\n",
      "Epoch 73/100\n",
      "16/16 - 0s - loss: 0.5239 - accuracy: 0.7438 - val_loss: 0.3925 - val_accuracy: 0.8689\n",
      "Epoch 74/100\n",
      "16/16 - 0s - loss: 0.4186 - accuracy: 0.8306 - val_loss: 0.3944 - val_accuracy: 0.8689\n",
      "Epoch 75/100\n",
      "16/16 - 0s - loss: 0.4530 - accuracy: 0.7851 - val_loss: 0.4589 - val_accuracy: 0.7541\n",
      "Epoch 76/100\n",
      "16/16 - 0s - loss: 0.4652 - accuracy: 0.7769 - val_loss: 0.4418 - val_accuracy: 0.7705\n",
      "Epoch 77/100\n",
      "16/16 - 0s - loss: 0.4152 - accuracy: 0.8099 - val_loss: 0.3537 - val_accuracy: 0.8689\n",
      "Epoch 78/100\n",
      "16/16 - 0s - loss: 0.4029 - accuracy: 0.8264 - val_loss: 0.3555 - val_accuracy: 0.8525\n",
      "Epoch 79/100\n",
      "16/16 - 0s - loss: 0.4207 - accuracy: 0.7934 - val_loss: 0.3946 - val_accuracy: 0.8525\n",
      "Epoch 80/100\n",
      "16/16 - 0s - loss: 0.4103 - accuracy: 0.8264 - val_loss: 0.3677 - val_accuracy: 0.8525\n",
      "Epoch 81/100\n",
      "16/16 - 0s - loss: 0.5484 - accuracy: 0.7314 - val_loss: 0.3919 - val_accuracy: 0.8689\n",
      "Epoch 82/100\n",
      "16/16 - 0s - loss: 0.4903 - accuracy: 0.7438 - val_loss: 0.3778 - val_accuracy: 0.8689\n"
     ]
    },
    {
     "name": "stdout",
     "output_type": "stream",
     "text": [
      "Epoch 83/100\n",
      "16/16 - 0s - loss: 0.3952 - accuracy: 0.8264 - val_loss: 0.5272 - val_accuracy: 0.7213\n",
      "Epoch 84/100\n",
      "16/16 - 0s - loss: 0.5601 - accuracy: 0.7355 - val_loss: 0.6796 - val_accuracy: 0.6066\n",
      "Epoch 85/100\n",
      "16/16 - 0s - loss: 0.5010 - accuracy: 0.7231 - val_loss: 0.3636 - val_accuracy: 0.8689\n",
      "Epoch 86/100\n",
      "16/16 - 0s - loss: 0.4160 - accuracy: 0.8058 - val_loss: 0.3475 - val_accuracy: 0.8852\n",
      "Epoch 87/100\n",
      "16/16 - 0s - loss: 0.4265 - accuracy: 0.8140 - val_loss: 0.3681 - val_accuracy: 0.8689\n",
      "Epoch 88/100\n",
      "16/16 - 0s - loss: 0.3895 - accuracy: 0.8388 - val_loss: 0.4860 - val_accuracy: 0.7541\n",
      "Epoch 89/100\n",
      "16/16 - 0s - loss: 0.4372 - accuracy: 0.7975 - val_loss: 0.4874 - val_accuracy: 0.7541\n",
      "Epoch 90/100\n",
      "16/16 - 0s - loss: 0.3944 - accuracy: 0.8223 - val_loss: 0.4606 - val_accuracy: 0.7541\n",
      "Epoch 91/100\n",
      "16/16 - 0s - loss: 0.5007 - accuracy: 0.7438 - val_loss: 0.9323 - val_accuracy: 0.5574\n",
      "Epoch 92/100\n",
      "16/16 - 0s - loss: 0.5447 - accuracy: 0.7645 - val_loss: 0.4539 - val_accuracy: 0.7541\n",
      "Epoch 93/100\n",
      "16/16 - 0s - loss: 0.5076 - accuracy: 0.7479 - val_loss: 0.3634 - val_accuracy: 0.8525\n",
      "Epoch 94/100\n",
      "16/16 - 0s - loss: 0.4822 - accuracy: 0.7934 - val_loss: 0.3557 - val_accuracy: 0.8525\n",
      "Epoch 95/100\n",
      "16/16 - 0s - loss: 0.4243 - accuracy: 0.8017 - val_loss: 0.3912 - val_accuracy: 0.8361\n",
      "Epoch 96/100\n",
      "16/16 - 0s - loss: 0.4193 - accuracy: 0.7934 - val_loss: 0.3551 - val_accuracy: 0.8689\n",
      "Epoch 97/100\n",
      "16/16 - 0s - loss: 0.4151 - accuracy: 0.8058 - val_loss: 0.4230 - val_accuracy: 0.7869\n",
      "Epoch 98/100\n",
      "16/16 - 0s - loss: 0.4150 - accuracy: 0.8058 - val_loss: 0.3949 - val_accuracy: 0.8361\n",
      "Epoch 99/100\n",
      "16/16 - 0s - loss: 0.4555 - accuracy: 0.7810 - val_loss: 0.3586 - val_accuracy: 0.8525\n",
      "Epoch 100/100\n",
      "16/16 - 0s - loss: 0.4477 - accuracy: 0.7562 - val_loss: 0.3502 - val_accuracy: 0.8689\n"
     ]
    },
    {
     "data": {
      "text/plain": [
       "<tensorflow.python.keras.callbacks.History at 0x22585c73130>"
      ]
     },
     "execution_count": 119,
     "metadata": {},
     "output_type": "execute_result"
    }
   ],
   "source": [
    "model = Sequential()\n",
    "model.add(Dense(32, input_dim=13, activation='relu'))\n",
    "model.add(Dense(16, activation='relu'))\n",
    "model.add(Dense(2, activation='softmax'))\n",
    "\n",
    "model.compile(loss='sparse_categorical_crossentropy',optimizer=\"Adam\",  metrics=['accuracy'])\n",
    "model.fit(X_train, Y_train, validation_data=(X_test, Y_test), batch_size=16, epochs=100, verbose=2)"
   ]
  },
  {
   "cell_type": "code",
   "execution_count": 122,
   "metadata": {},
   "outputs": [
    {
     "data": {
      "text/plain": [
       "1"
      ]
     },
     "execution_count": 122,
     "metadata": {},
     "output_type": "execute_result"
    }
   ],
   "source": [
    "prediction = np.array( [[57, 0, 1, 130, 236, 0, 0, 174, 0, 0.0, 1, 1, 2]], dtype=float)\n",
    "pred = model.predict(prediction) \n",
    "pred = np.argmax(pred)\n",
    "pred"
   ]
  },
  {
   "cell_type": "code",
   "execution_count": 125,
   "metadata": {},
   "outputs": [
    {
     "data": {
      "text/plain": [
       "86.88524590163934"
      ]
     },
     "execution_count": 125,
     "metadata": {},
     "output_type": "execute_result"
    }
   ],
   "source": [
    "predictions = np.argmax(model.predict(X_test), axis=1)\n",
    "model_accuracy = accuracy_score(Y_test, predictions)*100\n",
    "model_accuracy"
   ]
  },
  {
   "cell_type": "code",
   "execution_count": null,
   "metadata": {},
   "outputs": [],
   "source": []
  }
 ],
 "metadata": {
  "kernelspec": {
   "display_name": "Python 3",
   "language": "python",
   "name": "python3"
  },
  "language_info": {
   "codemirror_mode": {
    "name": "ipython",
    "version": 3
   },
   "file_extension": ".py",
   "mimetype": "text/x-python",
   "name": "python",
   "nbconvert_exporter": "python",
   "pygments_lexer": "ipython3",
   "version": "3.8.5"
  }
 },
 "nbformat": 4,
 "nbformat_minor": 4
}
